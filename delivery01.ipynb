{
 "cells": [
  {
   "cell_type": "code",
   "execution_count": 210,
   "metadata": {},
   "outputs": [
    {
     "name": "stdout",
     "output_type": "stream",
     "text": [
      "C:/Users/sharo/OneDrive/Desktop/ML_data\\Data_Test.xlsx\n",
      "C:/Users/sharo/OneDrive/Desktop/ML_data\\Data_Train.xlsx\n",
      "C:/Users/sharo/OneDrive/Desktop/ML_data\\Sample_Submission.xlsx\n"
     ]
    }
   ],
   "source": [
    "\n",
    "import numpy as np # linear algebra\n",
    "import pandas as pd # data processing, CSV file I/O (e.g. pd.read_csv)\n",
    "\n",
    "import os\n",
    "for dirname, _, filenames in os.walk('C:/Users/sharo/OneDrive/Desktop/ML_data'):\n",
    "    for filename in filenames:\n",
    "        print(os.path.join(dirname, filename))"
   ]
  },
  {
   "cell_type": "code",
   "execution_count": 211,
   "metadata": {},
   "outputs": [],
   "source": [
    "import pandas as pd\n",
    "import numpy as np\n",
    "import matplotlib.pyplot as plt\n",
    "import seaborn as sns\n",
    "from sklearn.preprocessing import LabelEncoder\n",
    "le=LabelEncoder()\n",
    "import warnings\n",
    "warnings.filterwarnings('ignore')"
   ]
  },
  {
   "cell_type": "code",
   "execution_count": 212,
   "metadata": {},
   "outputs": [],
   "source": [
    "from scipy.stats import zscore\n",
    "from sklearn.model_selection import train_test_split\n",
    "from sklearn.metrics import accuracy_score,confusion_matrix\n",
    "from time import time\n",
    "from sklearn.model_selection import train_test_split\n",
    "from sklearn.linear_model import LogisticRegression\n",
    "from sklearn.tree import DecisionTreeClassifier\n",
    "from sklearn.neighbors import KNeighborsClassifier\n",
    "from sklearn.ensemble import RandomForestClassifier,AdaBoostClassifier,BaggingClassifier,ExtraTreesClassifier\n",
    "lr=LogisticRegression()\n",
    "dt=DecisionTreeClassifier()\n",
    "knn=KNeighborsClassifier()\n",
    "rf=RandomForestClassifier()\n",
    "ada=AdaBoostClassifier()\n",
    "bag=BaggingClassifier()\n",
    "xtree=ExtraTreesClassifier()\n",
    "from sklearn.model_selection import GridSearchCV\n",
    "from sklearn.feature_extraction.text import CountVectorizer\n",
    "count=CountVectorizer()\n",
    "from sklearn.decomposition import PCA"
   ]
  },
  {
   "cell_type": "code",
   "execution_count": 213,
   "metadata": {},
   "outputs": [],
   "source": [
    "train=pd.read_excel('C:/Users/sharo/OneDrive/Desktop/ML_data/Data_Train.xlsx')\n",
    "test=pd.read_excel('C:/Users/sharo/OneDrive/Desktop/ML_data/Data_Test.xlsx')\n",
    "sample=pd.read_excel('C:/Users/sharo/OneDrive/Desktop/ML_data/Sample_Submission.xlsx')"
   ]
  },
  {
   "cell_type": "code",
   "execution_count": 214,
   "metadata": {
    "scrolled": false
   },
   "outputs": [
    {
     "data": {
      "text/html": [
       "<div>\n",
       "<style scoped>\n",
       "    .dataframe tbody tr th:only-of-type {\n",
       "        vertical-align: middle;\n",
       "    }\n",
       "\n",
       "    .dataframe tbody tr th {\n",
       "        vertical-align: top;\n",
       "    }\n",
       "\n",
       "    .dataframe thead th {\n",
       "        text-align: right;\n",
       "    }\n",
       "</style>\n",
       "<table border=\"1\" class=\"dataframe\">\n",
       "  <thead>\n",
       "    <tr style=\"text-align: right;\">\n",
       "      <th></th>\n",
       "      <th>Restaurant</th>\n",
       "      <th>Location</th>\n",
       "      <th>Cuisines</th>\n",
       "      <th>Total_Cost</th>\n",
       "      <th>Minimum_Order</th>\n",
       "      <th>Rating</th>\n",
       "      <th>Time_Taken_To_Cook</th>\n",
       "      <th>No_Of_Items</th>\n",
       "      <th>Delivery_Time</th>\n",
       "    </tr>\n",
       "  </thead>\n",
       "  <tbody>\n",
       "    <tr>\n",
       "      <th>0</th>\n",
       "      <td>ID_6321</td>\n",
       "      <td>FTI College, Law College Road, Pune</td>\n",
       "      <td>Fast Food, Rolls, Burger, Salad, Wraps</td>\n",
       "      <td>₹200</td>\n",
       "      <td>₹50</td>\n",
       "      <td>3.5</td>\n",
       "      <td>12</td>\n",
       "      <td>4</td>\n",
       "      <td>30 minutes</td>\n",
       "    </tr>\n",
       "    <tr>\n",
       "      <th>1</th>\n",
       "      <td>ID_2882</td>\n",
       "      <td>Sector 3, Marathalli</td>\n",
       "      <td>Ice Cream, Desserts</td>\n",
       "      <td>₹100</td>\n",
       "      <td>₹50</td>\n",
       "      <td>3.5</td>\n",
       "      <td>11</td>\n",
       "      <td>4</td>\n",
       "      <td>30 minutes</td>\n",
       "    </tr>\n",
       "    <tr>\n",
       "      <th>2</th>\n",
       "      <td>ID_1595</td>\n",
       "      <td>Mumbai Central</td>\n",
       "      <td>Italian, Street Food, Fast Food</td>\n",
       "      <td>₹150</td>\n",
       "      <td>₹50</td>\n",
       "      <td>3.6</td>\n",
       "      <td>99</td>\n",
       "      <td>30</td>\n",
       "      <td>65 minutes</td>\n",
       "    </tr>\n",
       "    <tr>\n",
       "      <th>3</th>\n",
       "      <td>ID_5929</td>\n",
       "      <td>Sector 1, Noida</td>\n",
       "      <td>Mughlai, North Indian, Chinese</td>\n",
       "      <td>₹250</td>\n",
       "      <td>₹99</td>\n",
       "      <td>3.7</td>\n",
       "      <td>176</td>\n",
       "      <td>95</td>\n",
       "      <td>30 minutes</td>\n",
       "    </tr>\n",
       "    <tr>\n",
       "      <th>4</th>\n",
       "      <td>ID_6123</td>\n",
       "      <td>Rmz Centennial, I Gate, Whitefield</td>\n",
       "      <td>Cafe, Beverages</td>\n",
       "      <td>₹200</td>\n",
       "      <td>₹99</td>\n",
       "      <td>3.2</td>\n",
       "      <td>521</td>\n",
       "      <td>235</td>\n",
       "      <td>65 minutes</td>\n",
       "    </tr>\n",
       "  </tbody>\n",
       "</table>\n",
       "</div>"
      ],
      "text/plain": [
       "  Restaurant                             Location  \\\n",
       "0    ID_6321  FTI College, Law College Road, Pune   \n",
       "1    ID_2882                 Sector 3, Marathalli   \n",
       "2    ID_1595                       Mumbai Central   \n",
       "3    ID_5929                      Sector 1, Noida   \n",
       "4    ID_6123   Rmz Centennial, I Gate, Whitefield   \n",
       "\n",
       "                                 Cuisines Total_Cost Minimum_Order Rating  \\\n",
       "0  Fast Food, Rolls, Burger, Salad, Wraps       ₹200           ₹50    3.5   \n",
       "1                     Ice Cream, Desserts       ₹100           ₹50    3.5   \n",
       "2         Italian, Street Food, Fast Food       ₹150           ₹50    3.6   \n",
       "3          Mughlai, North Indian, Chinese       ₹250           ₹99    3.7   \n",
       "4                         Cafe, Beverages       ₹200           ₹99    3.2   \n",
       "\n",
       "  Time_Taken_To_Cook No_Of_Items Delivery_Time  \n",
       "0                 12           4    30 minutes  \n",
       "1                 11           4    30 minutes  \n",
       "2                 99          30    65 minutes  \n",
       "3                176          95    30 minutes  \n",
       "4                521         235    65 minutes  "
      ]
     },
     "execution_count": 214,
     "metadata": {},
     "output_type": "execute_result"
    }
   ],
   "source": [
    "train.head()"
   ]
  },
  {
   "cell_type": "markdown",
   "metadata": {},
   "source": [
    "Cleanup:"
   ]
  },
  {
   "cell_type": "code",
   "execution_count": 215,
   "metadata": {},
   "outputs": [],
   "source": [
    "train['Restaurant']=le.fit_transform(train['Restaurant'])\n",
    "train['Location']=le.fit_transform(train['Location'])\n",
    "train['Minimum_Order']=pd.to_numeric(train['Minimum_Order'].str.replace('₹',' '))\n",
    "train['Total_Cost']=pd.to_numeric(train['Total_Cost'].str.replace('[^0-9]',''))\n",
    "train['Rating']=pd.to_numeric(train['Rating'].apply(lambda x : np.nan if x in ['Temporarily Closed','Opening Soon','-','NEW'] else x))\n",
    "train['Time_Taken_To_Cook']=pd.to_numeric(train['Time_Taken_To_Cook'].apply(lambda x : np.nan if x=='-' else x))\n",
    "train['No_Of_Items']=pd.to_numeric(train['No_Of_Items'].apply(lambda x : np.nan if x=='-' else x))\n",
    "train['Delivery_Time']=pd.to_numeric(train['Delivery_Time'].str.replace('[^0-9]',''))"
   ]
  },
  {
   "cell_type": "code",
   "execution_count": 216,
   "metadata": {},
   "outputs": [
    {
     "data": {
      "text/html": [
       "<div>\n",
       "<style scoped>\n",
       "    .dataframe tbody tr th:only-of-type {\n",
       "        vertical-align: middle;\n",
       "    }\n",
       "\n",
       "    .dataframe tbody tr th {\n",
       "        vertical-align: top;\n",
       "    }\n",
       "\n",
       "    .dataframe thead th {\n",
       "        text-align: right;\n",
       "    }\n",
       "</style>\n",
       "<table border=\"1\" class=\"dataframe\">\n",
       "  <thead>\n",
       "    <tr style=\"text-align: right;\">\n",
       "      <th></th>\n",
       "      <th>Restaurant</th>\n",
       "      <th>Location</th>\n",
       "      <th>Cuisines</th>\n",
       "      <th>Total_Cost</th>\n",
       "      <th>Minimum_Order</th>\n",
       "      <th>Rating</th>\n",
       "      <th>Time_Taken_To_Cook</th>\n",
       "      <th>No_Of_Items</th>\n",
       "      <th>Delivery_Time</th>\n",
       "    </tr>\n",
       "  </thead>\n",
       "  <tbody>\n",
       "    <tr>\n",
       "      <th>0</th>\n",
       "      <td>5086</td>\n",
       "      <td>10</td>\n",
       "      <td>Fast Food, Rolls, Burger, Salad, Wraps</td>\n",
       "      <td>200.0</td>\n",
       "      <td>50</td>\n",
       "      <td>3.5</td>\n",
       "      <td>12.0</td>\n",
       "      <td>4.0</td>\n",
       "      <td>30</td>\n",
       "    </tr>\n",
       "    <tr>\n",
       "      <th>1</th>\n",
       "      <td>1785</td>\n",
       "      <td>30</td>\n",
       "      <td>Ice Cream, Desserts</td>\n",
       "      <td>100.0</td>\n",
       "      <td>50</td>\n",
       "      <td>3.5</td>\n",
       "      <td>11.0</td>\n",
       "      <td>4.0</td>\n",
       "      <td>30</td>\n",
       "    </tr>\n",
       "    <tr>\n",
       "      <th>2</th>\n",
       "      <td>571</td>\n",
       "      <td>19</td>\n",
       "      <td>Italian, Street Food, Fast Food</td>\n",
       "      <td>150.0</td>\n",
       "      <td>50</td>\n",
       "      <td>3.6</td>\n",
       "      <td>99.0</td>\n",
       "      <td>30.0</td>\n",
       "      <td>65</td>\n",
       "    </tr>\n",
       "    <tr>\n",
       "      <th>3</th>\n",
       "      <td>4708</td>\n",
       "      <td>28</td>\n",
       "      <td>Mughlai, North Indian, Chinese</td>\n",
       "      <td>250.0</td>\n",
       "      <td>99</td>\n",
       "      <td>3.7</td>\n",
       "      <td>176.0</td>\n",
       "      <td>95.0</td>\n",
       "      <td>30</td>\n",
       "    </tr>\n",
       "    <tr>\n",
       "      <th>4</th>\n",
       "      <td>4896</td>\n",
       "      <td>26</td>\n",
       "      <td>Cafe, Beverages</td>\n",
       "      <td>200.0</td>\n",
       "      <td>99</td>\n",
       "      <td>3.2</td>\n",
       "      <td>521.0</td>\n",
       "      <td>235.0</td>\n",
       "      <td>65</td>\n",
       "    </tr>\n",
       "  </tbody>\n",
       "</table>\n",
       "</div>"
      ],
      "text/plain": [
       "   Restaurant  Location                                Cuisines  Total_Cost  \\\n",
       "0        5086        10  Fast Food, Rolls, Burger, Salad, Wraps       200.0   \n",
       "1        1785        30                     Ice Cream, Desserts       100.0   \n",
       "2         571        19         Italian, Street Food, Fast Food       150.0   \n",
       "3        4708        28          Mughlai, North Indian, Chinese       250.0   \n",
       "4        4896        26                         Cafe, Beverages       200.0   \n",
       "\n",
       "   Minimum_Order  Rating  Time_Taken_To_Cook  No_Of_Items  Delivery_Time  \n",
       "0             50     3.5                12.0          4.0             30  \n",
       "1             50     3.5                11.0          4.0             30  \n",
       "2             50     3.6                99.0         30.0             65  \n",
       "3             99     3.7               176.0         95.0             30  \n",
       "4             99     3.2               521.0        235.0             65  "
      ]
     },
     "execution_count": 216,
     "metadata": {},
     "output_type": "execute_result"
    }
   ],
   "source": [
    "train.head()"
   ]
  },
  {
   "cell_type": "code",
   "execution_count": 217,
   "metadata": {},
   "outputs": [],
   "source": [
    "q1=train['Rating'].quantile(0.25)\n",
    "q3=train['Rating'].quantile(0.75)\n",
    "iqr=q3-q1\n",
    "train['Rating']=train['Rating'].apply(lambda x: np.nan if x>q3+1.5*iqr or x<q1-1.5*iqr else x)\n",
    "train['Rating']=train['Rating'].fillna(train['Rating'].median())\n",
    "\n",
    "\n",
    "q1=train['Time_Taken_To_Cook'].quantile(0.25)\n",
    "q3=train['Time_Taken_To_Cook'].quantile(0.75)\n",
    "iqr=q3-q1\n",
    "train['Time_Taken_To_Cook']=train['Time_Taken_To_Cook'].apply(lambda x: np.nan if x>(q3+1.5*iqr) or x<(q1-1.5*iqr) else x)\n",
    "train['Time_Taken_To_Cook']=train['Time_Taken_To_Cook'].fillna(train['Time_Taken_To_Cook'].mode()[0])\n",
    "\n",
    "\n",
    "q1=train['No_Of_Items'].quantile(0.25)\n",
    "q3=train['No_Of_Items'].quantile(0.75)\n",
    "iqr=q3-q1\n",
    "train['No_Of_Items']=train['No_Of_Items'].apply(lambda x: np.nan if x>(q3+1.5*iqr) or x<(q1-1.5*iqr) else x)\n",
    "train['No_Of_Items']=train['No_Of_Items'].fillna(round(train['No_Of_Items'].mean()))\n",
    "\n",
    "\n",
    "\n",
    "q1=train['Total_Cost'].quantile(0.25)\n",
    "q3=train['Total_Cost'].quantile(0.75)\n",
    "iqr=q3-q1\n",
    "train['Total_Cost']=train['Total_Cost'].apply(lambda x: np.nan if x>(q3+1.5*iqr) or x<(q1-1.5*iqr) else x)\n",
    "train['Total_Cost']=train['Total_Cost'].fillna(round(train['Total_Cost'].mean()))"
   ]
  },
  {
   "cell_type": "code",
   "execution_count": 218,
   "metadata": {},
   "outputs": [
    {
     "data": {
      "text/html": [
       "<div>\n",
       "<style scoped>\n",
       "    .dataframe tbody tr th:only-of-type {\n",
       "        vertical-align: middle;\n",
       "    }\n",
       "\n",
       "    .dataframe tbody tr th {\n",
       "        vertical-align: top;\n",
       "    }\n",
       "\n",
       "    .dataframe thead th {\n",
       "        text-align: right;\n",
       "    }\n",
       "</style>\n",
       "<table border=\"1\" class=\"dataframe\">\n",
       "  <thead>\n",
       "    <tr style=\"text-align: right;\">\n",
       "      <th></th>\n",
       "      <th>Restaurant</th>\n",
       "      <th>Location</th>\n",
       "      <th>Cuisines</th>\n",
       "      <th>Total_Cost</th>\n",
       "      <th>Minimum_Order</th>\n",
       "      <th>Rating</th>\n",
       "      <th>Time_Taken_To_Cook</th>\n",
       "      <th>No_Of_Items</th>\n",
       "      <th>Delivery_Time</th>\n",
       "    </tr>\n",
       "  </thead>\n",
       "  <tbody>\n",
       "    <tr>\n",
       "      <th>0</th>\n",
       "      <td>5086</td>\n",
       "      <td>10</td>\n",
       "      <td>Fast Food, Rolls, Burger, Salad, Wraps</td>\n",
       "      <td>200.0</td>\n",
       "      <td>50</td>\n",
       "      <td>3.5</td>\n",
       "      <td>12.0</td>\n",
       "      <td>4.0</td>\n",
       "      <td>30</td>\n",
       "    </tr>\n",
       "    <tr>\n",
       "      <th>1</th>\n",
       "      <td>1785</td>\n",
       "      <td>30</td>\n",
       "      <td>Ice Cream, Desserts</td>\n",
       "      <td>100.0</td>\n",
       "      <td>50</td>\n",
       "      <td>3.5</td>\n",
       "      <td>11.0</td>\n",
       "      <td>4.0</td>\n",
       "      <td>30</td>\n",
       "    </tr>\n",
       "    <tr>\n",
       "      <th>2</th>\n",
       "      <td>571</td>\n",
       "      <td>19</td>\n",
       "      <td>Italian, Street Food, Fast Food</td>\n",
       "      <td>150.0</td>\n",
       "      <td>50</td>\n",
       "      <td>3.6</td>\n",
       "      <td>99.0</td>\n",
       "      <td>30.0</td>\n",
       "      <td>65</td>\n",
       "    </tr>\n",
       "    <tr>\n",
       "      <th>3</th>\n",
       "      <td>4708</td>\n",
       "      <td>28</td>\n",
       "      <td>Mughlai, North Indian, Chinese</td>\n",
       "      <td>250.0</td>\n",
       "      <td>99</td>\n",
       "      <td>3.7</td>\n",
       "      <td>176.0</td>\n",
       "      <td>95.0</td>\n",
       "      <td>30</td>\n",
       "    </tr>\n",
       "    <tr>\n",
       "      <th>4</th>\n",
       "      <td>4896</td>\n",
       "      <td>26</td>\n",
       "      <td>Cafe, Beverages</td>\n",
       "      <td>200.0</td>\n",
       "      <td>99</td>\n",
       "      <td>3.2</td>\n",
       "      <td>4.0</td>\n",
       "      <td>39.0</td>\n",
       "      <td>65</td>\n",
       "    </tr>\n",
       "  </tbody>\n",
       "</table>\n",
       "</div>"
      ],
      "text/plain": [
       "   Restaurant  Location                                Cuisines  Total_Cost  \\\n",
       "0        5086        10  Fast Food, Rolls, Burger, Salad, Wraps       200.0   \n",
       "1        1785        30                     Ice Cream, Desserts       100.0   \n",
       "2         571        19         Italian, Street Food, Fast Food       150.0   \n",
       "3        4708        28          Mughlai, North Indian, Chinese       250.0   \n",
       "4        4896        26                         Cafe, Beverages       200.0   \n",
       "\n",
       "   Minimum_Order  Rating  Time_Taken_To_Cook  No_Of_Items  Delivery_Time  \n",
       "0             50     3.5                12.0          4.0             30  \n",
       "1             50     3.5                11.0          4.0             30  \n",
       "2             50     3.6                99.0         30.0             65  \n",
       "3             99     3.7               176.0         95.0             30  \n",
       "4             99     3.2                 4.0         39.0             65  "
      ]
     },
     "execution_count": 218,
     "metadata": {},
     "output_type": "execute_result"
    }
   ],
   "source": [
    "train.head()"
   ]
  },
  {
   "cell_type": "code",
   "execution_count": 219,
   "metadata": {},
   "outputs": [],
   "source": [
    "train_01=train.copy()"
   ]
  },
  {
   "cell_type": "code",
   "execution_count": 220,
   "metadata": {},
   "outputs": [],
   "source": [
    "train['Cuisines']=le.fit_transform(train['Cuisines'])"
   ]
  },
  {
   "cell_type": "code",
   "execution_count": 221,
   "metadata": {},
   "outputs": [
    {
     "data": {
      "text/html": [
       "<div>\n",
       "<style scoped>\n",
       "    .dataframe tbody tr th:only-of-type {\n",
       "        vertical-align: middle;\n",
       "    }\n",
       "\n",
       "    .dataframe tbody tr th {\n",
       "        vertical-align: top;\n",
       "    }\n",
       "\n",
       "    .dataframe thead th {\n",
       "        text-align: right;\n",
       "    }\n",
       "</style>\n",
       "<table border=\"1\" class=\"dataframe\">\n",
       "  <thead>\n",
       "    <tr style=\"text-align: right;\">\n",
       "      <th></th>\n",
       "      <th>Restaurant</th>\n",
       "      <th>Location</th>\n",
       "      <th>Cuisines</th>\n",
       "      <th>Total_Cost</th>\n",
       "      <th>Minimum_Order</th>\n",
       "      <th>Rating</th>\n",
       "      <th>Time_Taken_To_Cook</th>\n",
       "      <th>No_Of_Items</th>\n",
       "      <th>Delivery_Time</th>\n",
       "    </tr>\n",
       "  </thead>\n",
       "  <tbody>\n",
       "    <tr>\n",
       "      <th>0</th>\n",
       "      <td>5086</td>\n",
       "      <td>10</td>\n",
       "      <td>995</td>\n",
       "      <td>200.0</td>\n",
       "      <td>50</td>\n",
       "      <td>3.5</td>\n",
       "      <td>12.0</td>\n",
       "      <td>4.0</td>\n",
       "      <td>30</td>\n",
       "    </tr>\n",
       "    <tr>\n",
       "      <th>1</th>\n",
       "      <td>1785</td>\n",
       "      <td>30</td>\n",
       "      <td>1116</td>\n",
       "      <td>100.0</td>\n",
       "      <td>50</td>\n",
       "      <td>3.5</td>\n",
       "      <td>11.0</td>\n",
       "      <td>4.0</td>\n",
       "      <td>30</td>\n",
       "    </tr>\n",
       "    <tr>\n",
       "      <th>2</th>\n",
       "      <td>571</td>\n",
       "      <td>19</td>\n",
       "      <td>1182</td>\n",
       "      <td>150.0</td>\n",
       "      <td>50</td>\n",
       "      <td>3.6</td>\n",
       "      <td>99.0</td>\n",
       "      <td>30.0</td>\n",
       "      <td>65</td>\n",
       "    </tr>\n",
       "    <tr>\n",
       "      <th>3</th>\n",
       "      <td>4708</td>\n",
       "      <td>28</td>\n",
       "      <td>1398</td>\n",
       "      <td>250.0</td>\n",
       "      <td>99</td>\n",
       "      <td>3.7</td>\n",
       "      <td>176.0</td>\n",
       "      <td>95.0</td>\n",
       "      <td>30</td>\n",
       "    </tr>\n",
       "    <tr>\n",
       "      <th>4</th>\n",
       "      <td>4896</td>\n",
       "      <td>26</td>\n",
       "      <td>388</td>\n",
       "      <td>200.0</td>\n",
       "      <td>99</td>\n",
       "      <td>3.2</td>\n",
       "      <td>4.0</td>\n",
       "      <td>39.0</td>\n",
       "      <td>65</td>\n",
       "    </tr>\n",
       "  </tbody>\n",
       "</table>\n",
       "</div>"
      ],
      "text/plain": [
       "   Restaurant  Location  Cuisines  Total_Cost  Minimum_Order  Rating  \\\n",
       "0        5086        10       995       200.0             50     3.5   \n",
       "1        1785        30      1116       100.0             50     3.5   \n",
       "2         571        19      1182       150.0             50     3.6   \n",
       "3        4708        28      1398       250.0             99     3.7   \n",
       "4        4896        26       388       200.0             99     3.2   \n",
       "\n",
       "   Time_Taken_To_Cook  No_Of_Items  Delivery_Time  \n",
       "0                12.0          4.0             30  \n",
       "1                11.0          4.0             30  \n",
       "2                99.0         30.0             65  \n",
       "3               176.0         95.0             30  \n",
       "4                 4.0         39.0             65  "
      ]
     },
     "execution_count": 221,
     "metadata": {},
     "output_type": "execute_result"
    }
   ],
   "source": [
    "train.head()"
   ]
  },
  {
   "cell_type": "code",
   "execution_count": 222,
   "metadata": {},
   "outputs": [],
   "source": [
    "x=train.drop('Delivery_Time',axis=1)\n",
    "y=train['Delivery_Time']"
   ]
  },
  {
   "cell_type": "code",
   "execution_count": 223,
   "metadata": {},
   "outputs": [],
   "source": [
    "x=x.apply(zscore)"
   ]
  },
  {
   "cell_type": "markdown",
   "metadata": {},
   "source": [
    "R2-score for Logitic Regression:"
   ]
  },
  {
   "cell_type": "code",
   "execution_count": 224,
   "metadata": {},
   "outputs": [
    {
     "name": "stdout",
     "output_type": "stream",
     "text": [
      "                                                  lr  r2-score\n",
      "0  LogisticRegression(C=1.0, class_weight=None, d...  0.696606\n",
      "0.64 sec\n"
     ]
    }
   ],
   "source": [
    "start_time=time()\n",
    "# model_list=[lr,dt,knn,rf,ada,bag,xtree]\n",
    "Score=[]\n",
    "x_train,x_test,y_train,y_test=train_test_split(x,y,test_size=0.3,random_state=50)\n",
    "lr.fit(x_train,y_train)\n",
    "y_pred=lr.predict(x_test)\n",
    "score=accuracy_score(y_test,y_pred)\n",
    "Score.append(score)\n",
    "print(pd.DataFrame({\"lr\": lr, \"r2-score\": Score}))\n",
    "# print(pd.DataFrame(lr,Score),columns=['Model Used','R2-Score'])\n",
    "end_time=time()\n",
    "print(round(end_time-start_time,2),'sec')"
   ]
  },
  {
   "cell_type": "markdown",
   "metadata": {},
   "source": [
    "R2-score for K-nearest Neighbor:"
   ]
  },
  {
   "cell_type": "code",
   "execution_count": 225,
   "metadata": {},
   "outputs": [
    {
     "name": "stdout",
     "output_type": "stream",
     "text": [
      "                                                 knn  r2-score\n",
      "0  KNeighborsClassifier(algorithm='auto', leaf_si...  0.697507\n",
      "0.46 sec\n"
     ]
    }
   ],
   "source": [
    "start_time=time()\n",
    "# model_list=[lr,dt,knn,rf,ada,bag,xtree]\n",
    "Score=[]\n",
    "x_train,x_test,y_train,y_test=train_test_split(x,y,test_size=0.3,random_state=50)\n",
    "knn.fit(x_train,y_train)\n",
    "y_pred=knn.predict(x_test)\n",
    "score=accuracy_score(y_test,y_pred)\n",
    "Score.append(score)\n",
    "print(pd.DataFrame({\"knn\": knn, \"r2-score\": Score}))\n",
    "# print(pd.DataFrame(lr,Score),columns=['Model Used','R2-Score'])\n",
    "end_time=time()\n",
    "print(round(end_time-start_time,2),'sec')"
   ]
  },
  {
   "cell_type": "markdown",
   "metadata": {},
   "source": [
    "Accuracy-Score for Random Forest:"
   ]
  },
  {
   "cell_type": "markdown",
   "metadata": {},
   "source": [
    "Random Forest:"
   ]
  },
  {
   "cell_type": "code",
   "execution_count": 226,
   "metadata": {},
   "outputs": [
    {
     "data": {
      "text/plain": [
       "0.7798137578852509"
      ]
     },
     "execution_count": 226,
     "metadata": {},
     "output_type": "execute_result"
    }
   ],
   "source": [
    "x_train,x_test,y_train,y_test=train_test_split(x,y,test_size=0.3,random_state=42)\n",
    "rf=RandomForestClassifier(n_estimators=100,criterion='entropy',random_state=42)\n",
    "train_model = rf.fit(x_train,y_train)\n",
    "y_pred=rf.predict(x_test)\n",
    "accuracy_score(y_test,y_pred)"
   ]
  },
  {
   "cell_type": "markdown",
   "metadata": {},
   "source": [
    "Implementing Text Analysis Using Count Vector:"
   ]
  },
  {
   "cell_type": "code",
   "execution_count": 227,
   "metadata": {},
   "outputs": [
    {
     "data": {
      "text/html": [
       "<div>\n",
       "<style scoped>\n",
       "    .dataframe tbody tr th:only-of-type {\n",
       "        vertical-align: middle;\n",
       "    }\n",
       "\n",
       "    .dataframe tbody tr th {\n",
       "        vertical-align: top;\n",
       "    }\n",
       "\n",
       "    .dataframe thead th {\n",
       "        text-align: right;\n",
       "    }\n",
       "</style>\n",
       "<table border=\"1\" class=\"dataframe\">\n",
       "  <thead>\n",
       "    <tr style=\"text-align: right;\">\n",
       "      <th></th>\n",
       "      <th>Restaurant</th>\n",
       "      <th>Location</th>\n",
       "      <th>Cuisines</th>\n",
       "      <th>Total_Cost</th>\n",
       "      <th>Minimum_Order</th>\n",
       "      <th>Rating</th>\n",
       "      <th>Time_Taken_To_Cook</th>\n",
       "      <th>No_Of_Items</th>\n",
       "      <th>Delivery_Time</th>\n",
       "    </tr>\n",
       "  </thead>\n",
       "  <tbody>\n",
       "    <tr>\n",
       "      <th>0</th>\n",
       "      <td>5086</td>\n",
       "      <td>10</td>\n",
       "      <td>Fast Food, Rolls, Burger, Salad, Wraps</td>\n",
       "      <td>200.0</td>\n",
       "      <td>50</td>\n",
       "      <td>3.5</td>\n",
       "      <td>12.0</td>\n",
       "      <td>4.0</td>\n",
       "      <td>30</td>\n",
       "    </tr>\n",
       "    <tr>\n",
       "      <th>1</th>\n",
       "      <td>1785</td>\n",
       "      <td>30</td>\n",
       "      <td>Ice Cream, Desserts</td>\n",
       "      <td>100.0</td>\n",
       "      <td>50</td>\n",
       "      <td>3.5</td>\n",
       "      <td>11.0</td>\n",
       "      <td>4.0</td>\n",
       "      <td>30</td>\n",
       "    </tr>\n",
       "    <tr>\n",
       "      <th>2</th>\n",
       "      <td>571</td>\n",
       "      <td>19</td>\n",
       "      <td>Italian, Street Food, Fast Food</td>\n",
       "      <td>150.0</td>\n",
       "      <td>50</td>\n",
       "      <td>3.6</td>\n",
       "      <td>99.0</td>\n",
       "      <td>30.0</td>\n",
       "      <td>65</td>\n",
       "    </tr>\n",
       "    <tr>\n",
       "      <th>3</th>\n",
       "      <td>4708</td>\n",
       "      <td>28</td>\n",
       "      <td>Mughlai, North Indian, Chinese</td>\n",
       "      <td>250.0</td>\n",
       "      <td>99</td>\n",
       "      <td>3.7</td>\n",
       "      <td>176.0</td>\n",
       "      <td>95.0</td>\n",
       "      <td>30</td>\n",
       "    </tr>\n",
       "    <tr>\n",
       "      <th>4</th>\n",
       "      <td>4896</td>\n",
       "      <td>26</td>\n",
       "      <td>Cafe, Beverages</td>\n",
       "      <td>200.0</td>\n",
       "      <td>99</td>\n",
       "      <td>3.2</td>\n",
       "      <td>4.0</td>\n",
       "      <td>39.0</td>\n",
       "      <td>65</td>\n",
       "    </tr>\n",
       "  </tbody>\n",
       "</table>\n",
       "</div>"
      ],
      "text/plain": [
       "   Restaurant  Location                                Cuisines  Total_Cost  \\\n",
       "0        5086        10  Fast Food, Rolls, Burger, Salad, Wraps       200.0   \n",
       "1        1785        30                     Ice Cream, Desserts       100.0   \n",
       "2         571        19         Italian, Street Food, Fast Food       150.0   \n",
       "3        4708        28          Mughlai, North Indian, Chinese       250.0   \n",
       "4        4896        26                         Cafe, Beverages       200.0   \n",
       "\n",
       "   Minimum_Order  Rating  Time_Taken_To_Cook  No_Of_Items  Delivery_Time  \n",
       "0             50     3.5                12.0          4.0             30  \n",
       "1             50     3.5                11.0          4.0             30  \n",
       "2             50     3.6                99.0         30.0             65  \n",
       "3             99     3.7               176.0         95.0             30  \n",
       "4             99     3.2                 4.0         39.0             65  "
      ]
     },
     "execution_count": 227,
     "metadata": {},
     "output_type": "execute_result"
    }
   ],
   "source": [
    "train_01.head()"
   ]
  },
  {
   "cell_type": "code",
   "execution_count": 228,
   "metadata": {},
   "outputs": [],
   "source": [
    "train_01['Cuisines']=train_01['Cuisines'].str.lower()\n",
    "train_01['Cuisines']=train_01['Cuisines'].str.replace('[^a-z]',' ')"
   ]
  },
  {
   "cell_type": "code",
   "execution_count": 229,
   "metadata": {},
   "outputs": [
    {
     "data": {
      "text/html": [
       "<div>\n",
       "<style scoped>\n",
       "    .dataframe tbody tr th:only-of-type {\n",
       "        vertical-align: middle;\n",
       "    }\n",
       "\n",
       "    .dataframe tbody tr th {\n",
       "        vertical-align: top;\n",
       "    }\n",
       "\n",
       "    .dataframe thead th {\n",
       "        text-align: right;\n",
       "    }\n",
       "</style>\n",
       "<table border=\"1\" class=\"dataframe\">\n",
       "  <thead>\n",
       "    <tr style=\"text-align: right;\">\n",
       "      <th></th>\n",
       "      <th>Restaurant</th>\n",
       "      <th>Location</th>\n",
       "      <th>Cuisines</th>\n",
       "      <th>Total_Cost</th>\n",
       "      <th>Minimum_Order</th>\n",
       "      <th>Rating</th>\n",
       "      <th>Time_Taken_To_Cook</th>\n",
       "      <th>No_Of_Items</th>\n",
       "      <th>Delivery_Time</th>\n",
       "    </tr>\n",
       "  </thead>\n",
       "  <tbody>\n",
       "    <tr>\n",
       "      <th>0</th>\n",
       "      <td>5086</td>\n",
       "      <td>10</td>\n",
       "      <td>fast food  rolls  burger  salad  wraps</td>\n",
       "      <td>200.0</td>\n",
       "      <td>50</td>\n",
       "      <td>3.5</td>\n",
       "      <td>12.0</td>\n",
       "      <td>4.0</td>\n",
       "      <td>30</td>\n",
       "    </tr>\n",
       "    <tr>\n",
       "      <th>1</th>\n",
       "      <td>1785</td>\n",
       "      <td>30</td>\n",
       "      <td>ice cream  desserts</td>\n",
       "      <td>100.0</td>\n",
       "      <td>50</td>\n",
       "      <td>3.5</td>\n",
       "      <td>11.0</td>\n",
       "      <td>4.0</td>\n",
       "      <td>30</td>\n",
       "    </tr>\n",
       "    <tr>\n",
       "      <th>2</th>\n",
       "      <td>571</td>\n",
       "      <td>19</td>\n",
       "      <td>italian  street food  fast food</td>\n",
       "      <td>150.0</td>\n",
       "      <td>50</td>\n",
       "      <td>3.6</td>\n",
       "      <td>99.0</td>\n",
       "      <td>30.0</td>\n",
       "      <td>65</td>\n",
       "    </tr>\n",
       "    <tr>\n",
       "      <th>3</th>\n",
       "      <td>4708</td>\n",
       "      <td>28</td>\n",
       "      <td>mughlai  north indian  chinese</td>\n",
       "      <td>250.0</td>\n",
       "      <td>99</td>\n",
       "      <td>3.7</td>\n",
       "      <td>176.0</td>\n",
       "      <td>95.0</td>\n",
       "      <td>30</td>\n",
       "    </tr>\n",
       "    <tr>\n",
       "      <th>4</th>\n",
       "      <td>4896</td>\n",
       "      <td>26</td>\n",
       "      <td>cafe  beverages</td>\n",
       "      <td>200.0</td>\n",
       "      <td>99</td>\n",
       "      <td>3.2</td>\n",
       "      <td>4.0</td>\n",
       "      <td>39.0</td>\n",
       "      <td>65</td>\n",
       "    </tr>\n",
       "  </tbody>\n",
       "</table>\n",
       "</div>"
      ],
      "text/plain": [
       "   Restaurant  Location                                Cuisines  Total_Cost  \\\n",
       "0        5086        10  fast food  rolls  burger  salad  wraps       200.0   \n",
       "1        1785        30                     ice cream  desserts       100.0   \n",
       "2         571        19         italian  street food  fast food       150.0   \n",
       "3        4708        28          mughlai  north indian  chinese       250.0   \n",
       "4        4896        26                         cafe  beverages       200.0   \n",
       "\n",
       "   Minimum_Order  Rating  Time_Taken_To_Cook  No_Of_Items  Delivery_Time  \n",
       "0             50     3.5                12.0          4.0             30  \n",
       "1             50     3.5                11.0          4.0             30  \n",
       "2             50     3.6                99.0         30.0             65  \n",
       "3             99     3.7               176.0         95.0             30  \n",
       "4             99     3.2                 4.0         39.0             65  "
      ]
     },
     "execution_count": 229,
     "metadata": {},
     "output_type": "execute_result"
    }
   ],
   "source": [
    "train_01.head()"
   ]
  },
  {
   "cell_type": "code",
   "execution_count": 230,
   "metadata": {},
   "outputs": [
    {
     "name": "stdout",
     "output_type": "stream",
     "text": [
      "CountVectorizer(analyzer='word', binary=False, decode_error='strict',\n",
      "                dtype=<class 'numpy.int64'>, encoding='utf-8', input='content',\n",
      "                lowercase=True, max_df=1.0, max_features=None, min_df=1,\n",
      "                ngram_range=(1, 1), preprocessor=None, stop_words=None,\n",
      "                strip_accents=None, token_pattern='(?u)\\\\b\\\\w\\\\w+\\\\b',\n",
      "                tokenizer=None, vocabulary=None)\n"
     ]
    }
   ],
   "source": [
    "cf=count.fit(train_01['Cuisines'])\n",
    "print(cf)"
   ]
  },
  {
   "cell_type": "code",
   "execution_count": 231,
   "metadata": {},
   "outputs": [],
   "source": [
    "cols=['Restaurant','Location','Total_Cost','Minimum_Order','Rating','Votes','No_Of_Items']"
   ]
  },
  {
   "cell_type": "code",
   "execution_count": 232,
   "metadata": {},
   "outputs": [],
   "source": [
    "data=pd.concat([pd.DataFrame(zscore(train_01.drop(['Cuisines','Delivery_Time'],axis=1)),columns=cols),pd.DataFrame(count.transform(train_01['Cuisines']).todense())],axis=1)"
   ]
  },
  {
   "cell_type": "code",
   "execution_count": 233,
   "metadata": {},
   "outputs": [
    {
     "name": "stdout",
     "output_type": "stream",
     "text": [
      "       Restaurant  Location  Total_Cost  Minimum_Order    Rating     Votes  \\\n",
      "0        0.623738 -0.717664    0.431696      -0.180293 -0.298223 -0.555967   \n",
      "1       -0.902235  1.358903   -1.155267      -0.180293 -0.298223 -0.565427   \n",
      "2       -1.463438  0.216791   -0.361786      -0.180293 -0.029808  0.267058   \n",
      "3        0.448998  1.151247    1.225177       2.461158  0.238608  0.995482   \n",
      "4        0.535906  0.943590    0.431696       2.461158 -1.103469 -0.631648   \n",
      "...           ...       ...         ...            ...       ...       ...   \n",
      "11089    1.403136 -1.755948    1.225177      -0.180293  1.580685  2.414491   \n",
      "11090   -0.127460  1.255075   -1.155267      -0.180293 -0.029808 -0.328926   \n",
      "11091   -0.676644 -0.094694   -1.155267      -0.180293 -0.298223 -0.243785   \n",
      "11092   -0.354438  1.358903   -1.155267      -0.180293 -1.371885 -0.442447   \n",
      "11093   -0.218066  1.462732   -1.155267      -0.180293 -0.029808 -0.631648   \n",
      "\n",
      "       No_Of_Items  0  1  2  ...  98  99  100  101  102  103  104  105  106  \\\n",
      "0        -0.896744  0  0  0  ...   0   0    0    0    0    0    0    0    1   \n",
      "1        -0.896744  0  0  0  ...   0   0    0    0    0    0    0    0    0   \n",
      "2        -0.233969  0  0  0  ...   0   0    0    0    0    0    0    0    0   \n",
      "3         1.422968  0  0  0  ...   0   0    0    0    0    0    0    0    0   \n",
      "4        -0.004547  0  0  0  ...   0   0    0    0    0    0    0    0    0   \n",
      "...            ... .. .. ..  ...  ..  ..  ...  ...  ...  ...  ...  ...  ...   \n",
      "11089     3.819153  0  0  0  ...   0   0    0    0    0    1    0    0    0   \n",
      "11090    -0.590848  0  0  0  ...   0   0    0    0    0    0    0    0    0   \n",
      "11091    -0.539865  0  0  0  ...   0   0    0    0    0    0    0    0    0   \n",
      "11092    -0.769287  0  0  0  ...   0   0    0    0    0    0    0    0    0   \n",
      "11093    -0.004547  0  0  0  ...   0   0    0    0    0    0    0    0    0   \n",
      "\n",
      "       107  \n",
      "0        0  \n",
      "1        0  \n",
      "2        0  \n",
      "3        0  \n",
      "4        0  \n",
      "...    ...  \n",
      "11089    0  \n",
      "11090    0  \n",
      "11091    0  \n",
      "11092    0  \n",
      "11093    0  \n",
      "\n",
      "[11094 rows x 115 columns]\n"
     ]
    }
   ],
   "source": [
    "print(data)"
   ]
  },
  {
   "cell_type": "code",
   "execution_count": 234,
   "metadata": {},
   "outputs": [],
   "source": [
    "x=data\n",
    "y=train_01['Delivery_Time']"
   ]
  },
  {
   "cell_type": "code",
   "execution_count": 235,
   "metadata": {},
   "outputs": [
    {
     "data": {
      "text/plain": [
       "0.7912285971763292"
      ]
     },
     "execution_count": 235,
     "metadata": {},
     "output_type": "execute_result"
    }
   ],
   "source": [
    "x_train,x_test,y_train,y_test=train_test_split(x,y,test_size=0.3,random_state=42)\n",
    "rf=RandomForestClassifier(n_estimators=100,criterion='entropy',random_state=42)\n",
    "rf.fit(x_train,y_train)\n",
    "y_pred=rf.predict(x_test)\n",
    "accuracy_score(y_test,y_pred)"
   ]
  },
  {
   "cell_type": "markdown",
   "metadata": {},
   "source": [
    "PCA for Dimensionality Reduction:"
   ]
  },
  {
   "cell_type": "code",
   "execution_count": 236,
   "metadata": {},
   "outputs": [],
   "source": [
    "x=data\n",
    "y=train_01['Delivery_Time']"
   ]
  },
  {
   "cell_type": "code",
   "execution_count": 237,
   "metadata": {},
   "outputs": [
    {
     "data": {
      "text/plain": [
       "(11094, 115)"
      ]
     },
     "execution_count": 237,
     "metadata": {},
     "output_type": "execute_result"
    }
   ],
   "source": [
    "x.shape"
   ]
  },
  {
   "cell_type": "code",
   "execution_count": 238,
   "metadata": {},
   "outputs": [
    {
     "data": {
      "text/plain": [
       "PCA(copy=True, iterated_power='auto', n_components=None, random_state=None,\n",
       "    svd_solver='auto', tol=0.0, whiten=False)"
      ]
     },
     "execution_count": 238,
     "metadata": {},
     "output_type": "execute_result"
    }
   ],
   "source": [
    "pca=PCA()\n",
    "pca.fit(x)"
   ]
  },
  {
   "cell_type": "code",
   "execution_count": 239,
   "metadata": {},
   "outputs": [
    {
     "data": {
      "text/plain": [
       "[<matplotlib.lines.Line2D at 0x14b1697d248>]"
      ]
     },
     "execution_count": 239,
     "metadata": {},
     "output_type": "execute_result"
    },
    {
     "data": {
      "image/png": "[encoded data removed]",
      "text/plain": [
       "<Figure size 432x288 with 1 Axes>"
      ]
     },
     "metadata": {
      "needs_background": "light"
     },
     "output_type": "display_data"
    }
   ],
   "source": [
    "plt.plot(np.cumsum(pca.explained_variance_ratio_))"
   ]
  },
  {
   "cell_type": "code",
   "execution_count": 240,
   "metadata": {},
   "outputs": [],
   "source": [
    "pca=PCA(n_components=22)"
   ]
  },
  {
   "cell_type": "code",
   "execution_count": 241,
   "metadata": {},
   "outputs": [],
   "source": [
    "x=pca.fit_transform(x)"
   ]
  },
  {
   "cell_type": "code",
   "execution_count": 242,
   "metadata": {},
   "outputs": [
    {
     "data": {
      "text/plain": [
       "0.771402823670772"
      ]
     },
     "execution_count": 242,
     "metadata": {},
     "output_type": "execute_result"
    }
   ],
   "source": [
    "x_train,x_test,y_train,y_test=train_test_split(x,y,test_size=0.3,random_state=42)\n",
    "rf=RandomForestClassifier(n_estimators=100,criterion='entropy',random_state=42)\n",
    "rf.fit(x_train,y_train)\n",
    "y_pred=rf.predict(x_test)\n",
    "accuracy_score(y_test,y_pred)"
   ]
  },
  {
   "cell_type": "markdown",
   "metadata": {},
   "source": [
    "Checking on Test Dataset:"
   ]
  },
  {
   "cell_type": "code",
   "execution_count": 243,
   "metadata": {},
   "outputs": [],
   "source": [
    "test['Restaurant']=le.fit_transform(test['Restaurant'])\n",
    "test['Location']=le.fit_transform(test['Location'])\n",
    "test['Minimum_Order']=pd.to_numeric(test['Minimum_Order'].str.replace('₹',' '))\n",
    "test['Total_Cost']=pd.to_numeric(test['Total_Cost'].str.replace('[^0-9]',''))\n",
    "test['Rating']=pd.to_numeric(test['Rating'].apply(lambda x : np.nan if x in ['Temporarily Closed','Opening Soon','-','NEW'] else x))\n",
    "test['Time_Taken_To_Cook']=pd.to_numeric(test['Time_Taken_To_Cook'].apply(lambda x : np.nan if x=='-' else x))\n",
    "test['No_Of_Items']=pd.to_numeric(test['No_Of_Items'].apply(lambda x : np.nan if x=='-' else x))\n",
    "test['Rating']=test['Rating'].fillna(test['Rating'].median())\n",
    "test['Time_Taken_To_Cook']=test['Time_Taken_To_Cook'].fillna(test['Time_Taken_To_Cook'].mode()[0])\n",
    "test['No_Of_Items']=test['No_Of_Items'].fillna(test['No_Of_Items'].median())\n",
    "test['Total_Cost']=test['Total_Cost'].fillna(test['Total_Cost'].mean())\n",
    "sample['Delivery_Time']=le.fit_transform(pd.to_numeric(sample['Delivery_Time'].str.replace('[^0-9]','')))"
   ]
  },
  {
   "cell_type": "code",
   "execution_count": 244,
   "metadata": {},
   "outputs": [],
   "source": [
    "test['Cuisines']=test['Cuisines'].str.lower()\n",
    "test['Cuisines']=test['Cuisines'].str.replace('[^a-z]',' ')"
   ]
  },
  {
   "cell_type": "code",
   "execution_count": 245,
   "metadata": {},
   "outputs": [
    {
     "data": {
      "text/plain": [
       "CountVectorizer(analyzer='word', binary=False, decode_error='strict',\n",
       "                dtype=<class 'numpy.int64'>, encoding='utf-8', input='content',\n",
       "                lowercase=True, max_df=1.0, max_features=None, min_df=1,\n",
       "                ngram_range=(1, 1), preprocessor=None, stop_words=None,\n",
       "                strip_accents=None, token_pattern='(?u)\\\\b\\\\w\\\\w+\\\\b',\n",
       "                tokenizer=None, vocabulary=None)"
      ]
     },
     "execution_count": 245,
     "metadata": {},
     "output_type": "execute_result"
    }
   ],
   "source": [
    "count.fit(test['Cuisines'])"
   ]
  },
  {
   "cell_type": "code",
   "execution_count": 246,
   "metadata": {},
   "outputs": [],
   "source": [
    "pca=PCA(n_components=22)"
   ]
  },
  {
   "cell_type": "code",
   "execution_count": 247,
   "metadata": {},
   "outputs": [],
   "source": [
    "data=pd.concat([pd.DataFrame(zscore(test.drop(['Cuisines'],axis=1)),columns=cols),pd.DataFrame((count.transform(test['Cuisines']).todense()))],axis=1)"
   ]
  },
  {
   "cell_type": "code",
   "execution_count": 248,
   "metadata": {},
   "outputs": [
    {
     "data": {
      "text/html": [
       "<div>\n",
       "<style scoped>\n",
       "    .dataframe tbody tr th:only-of-type {\n",
       "        vertical-align: middle;\n",
       "    }\n",
       "\n",
       "    .dataframe tbody tr th {\n",
       "        vertical-align: top;\n",
       "    }\n",
       "\n",
       "    .dataframe thead th {\n",
       "        text-align: right;\n",
       "    }\n",
       "</style>\n",
       "<table border=\"1\" class=\"dataframe\">\n",
       "  <thead>\n",
       "    <tr style=\"text-align: right;\">\n",
       "      <th></th>\n",
       "      <th>Restaurant</th>\n",
       "      <th>Location</th>\n",
       "      <th>Total_Cost</th>\n",
       "      <th>Minimum_Order</th>\n",
       "      <th>Rating</th>\n",
       "      <th>Votes</th>\n",
       "      <th>No_Of_Items</th>\n",
       "      <th>0</th>\n",
       "      <th>1</th>\n",
       "      <th>2</th>\n",
       "      <th>...</th>\n",
       "      <th>82</th>\n",
       "      <th>83</th>\n",
       "      <th>84</th>\n",
       "      <th>85</th>\n",
       "      <th>86</th>\n",
       "      <th>87</th>\n",
       "      <th>88</th>\n",
       "      <th>89</th>\n",
       "      <th>90</th>\n",
       "      <th>91</th>\n",
       "    </tr>\n",
       "  </thead>\n",
       "  <tbody>\n",
       "    <tr>\n",
       "      <th>0</th>\n",
       "      <td>-0.897152</td>\n",
       "      <td>0.010057</td>\n",
       "      <td>1.350471</td>\n",
       "      <td>-0.177278</td>\n",
       "      <td>1.619203</td>\n",
       "      <td>0.368696</td>\n",
       "      <td>0.503777</td>\n",
       "      <td>0</td>\n",
       "      <td>0</td>\n",
       "      <td>0</td>\n",
       "      <td>...</td>\n",
       "      <td>0</td>\n",
       "      <td>0</td>\n",
       "      <td>0</td>\n",
       "      <td>0</td>\n",
       "      <td>0</td>\n",
       "      <td>0</td>\n",
       "      <td>0</td>\n",
       "      <td>0</td>\n",
       "      <td>0</td>\n",
       "      <td>0</td>\n",
       "    </tr>\n",
       "    <tr>\n",
       "      <th>1</th>\n",
       "      <td>1.093993</td>\n",
       "      <td>0.010057</td>\n",
       "      <td>-0.833142</td>\n",
       "      <td>-0.177278</td>\n",
       "      <td>-0.000097</td>\n",
       "      <td>-0.368519</td>\n",
       "      <td>-0.256583</td>\n",
       "      <td>0</td>\n",
       "      <td>0</td>\n",
       "      <td>0</td>\n",
       "      <td>...</td>\n",
       "      <td>0</td>\n",
       "      <td>0</td>\n",
       "      <td>0</td>\n",
       "      <td>0</td>\n",
       "      <td>0</td>\n",
       "      <td>0</td>\n",
       "      <td>0</td>\n",
       "      <td>0</td>\n",
       "      <td>0</td>\n",
       "      <td>0</td>\n",
       "    </tr>\n",
       "    <tr>\n",
       "      <th>2</th>\n",
       "      <td>-0.113111</td>\n",
       "      <td>1.155165</td>\n",
       "      <td>-0.833142</td>\n",
       "      <td>-0.177278</td>\n",
       "      <td>-0.000097</td>\n",
       "      <td>-0.308126</td>\n",
       "      <td>-0.294793</td>\n",
       "      <td>0</td>\n",
       "      <td>0</td>\n",
       "      <td>0</td>\n",
       "      <td>...</td>\n",
       "      <td>0</td>\n",
       "      <td>0</td>\n",
       "      <td>0</td>\n",
       "      <td>0</td>\n",
       "      <td>0</td>\n",
       "      <td>0</td>\n",
       "      <td>0</td>\n",
       "      <td>0</td>\n",
       "      <td>0</td>\n",
       "      <td>0</td>\n",
       "    </tr>\n",
       "    <tr>\n",
       "      <th>3</th>\n",
       "      <td>0.292626</td>\n",
       "      <td>-1.655553</td>\n",
       "      <td>0.040303</td>\n",
       "      <td>-0.177278</td>\n",
       "      <td>-0.000097</td>\n",
       "      <td>-0.245650</td>\n",
       "      <td>-0.229837</td>\n",
       "      <td>0</td>\n",
       "      <td>0</td>\n",
       "      <td>0</td>\n",
       "      <td>...</td>\n",
       "      <td>0</td>\n",
       "      <td>0</td>\n",
       "      <td>0</td>\n",
       "      <td>0</td>\n",
       "      <td>0</td>\n",
       "      <td>0</td>\n",
       "      <td>0</td>\n",
       "      <td>0</td>\n",
       "      <td>0</td>\n",
       "      <td>0</td>\n",
       "    </tr>\n",
       "    <tr>\n",
       "      <th>4</th>\n",
       "      <td>-0.715220</td>\n",
       "      <td>1.155165</td>\n",
       "      <td>-0.396419</td>\n",
       "      <td>-0.177278</td>\n",
       "      <td>-1.889281</td>\n",
       "      <td>-0.303961</td>\n",
       "      <td>-0.302434</td>\n",
       "      <td>0</td>\n",
       "      <td>0</td>\n",
       "      <td>0</td>\n",
       "      <td>...</td>\n",
       "      <td>0</td>\n",
       "      <td>0</td>\n",
       "      <td>0</td>\n",
       "      <td>0</td>\n",
       "      <td>0</td>\n",
       "      <td>0</td>\n",
       "      <td>0</td>\n",
       "      <td>0</td>\n",
       "      <td>0</td>\n",
       "      <td>0</td>\n",
       "    </tr>\n",
       "  </tbody>\n",
       "</table>\n",
       "<p>5 rows × 99 columns</p>\n",
       "</div>"
      ],
      "text/plain": [
       "   Restaurant  Location  Total_Cost  Minimum_Order    Rating     Votes  \\\n",
       "0   -0.897152  0.010057    1.350471      -0.177278  1.619203  0.368696   \n",
       "1    1.093993  0.010057   -0.833142      -0.177278 -0.000097 -0.368519   \n",
       "2   -0.113111  1.155165   -0.833142      -0.177278 -0.000097 -0.308126   \n",
       "3    0.292626 -1.655553    0.040303      -0.177278 -0.000097 -0.245650   \n",
       "4   -0.715220  1.155165   -0.396419      -0.177278 -1.889281 -0.303961   \n",
       "\n",
       "   No_Of_Items  0  1  2  ...  82  83  84  85  86  87  88  89  90  91  \n",
       "0     0.503777  0  0  0  ...   0   0   0   0   0   0   0   0   0   0  \n",
       "1    -0.256583  0  0  0  ...   0   0   0   0   0   0   0   0   0   0  \n",
       "2    -0.294793  0  0  0  ...   0   0   0   0   0   0   0   0   0   0  \n",
       "3    -0.229837  0  0  0  ...   0   0   0   0   0   0   0   0   0   0  \n",
       "4    -0.302434  0  0  0  ...   0   0   0   0   0   0   0   0   0   0  \n",
       "\n",
       "[5 rows x 99 columns]"
      ]
     },
     "execution_count": 248,
     "metadata": {},
     "output_type": "execute_result"
    }
   ],
   "source": [
    "data.head()"
   ]
  },
  {
   "cell_type": "code",
   "execution_count": 249,
   "metadata": {},
   "outputs": [],
   "source": [
    "x=pca.fit_transform(data)"
   ]
  },
  {
   "cell_type": "code",
   "execution_count": 250,
   "metadata": {},
   "outputs": [
    {
     "name": "stdout",
     "output_type": "stream",
     "text": [
      "[[ 1.65441012e+00 -4.47215988e-01  2.24004870e-01 ...  1.12124644e-01\n",
      "   1.22924374e-01  6.00999852e-02]\n",
      " [-7.06458930e-01  4.64952525e-01 -7.31348695e-01 ...  1.56267967e-03\n",
      "   8.40215041e-02  4.30183144e-02]\n",
      " [-7.55729656e-01  3.88210740e-01  7.67981057e-01 ... -7.40503320e-02\n",
      "   1.22417067e-01  1.08944180e-02]\n",
      " ...\n",
      " [-1.18451526e+00  1.10084826e+00 -7.09844857e-01 ... -6.26162509e-02\n",
      "   4.64056372e-02  4.19921324e-02]\n",
      " [-1.09592876e+00 -4.08731206e-01  1.70880849e+00 ... -8.28279240e-02\n",
      "  -1.85079437e-01  1.95420551e-02]\n",
      " [-5.10383538e-01 -1.75419979e+00  1.07896756e+00 ...  1.49839135e-01\n",
      "   8.41338157e-02 -1.62416359e-01]]\n"
     ]
    }
   ],
   "source": [
    "print(x)"
   ]
  },
  {
   "cell_type": "code",
   "execution_count": 251,
   "metadata": {},
   "outputs": [
    {
     "name": "stdout",
     "output_type": "stream",
     "text": [
      "[30 30 30 ... 30 30 30]\n"
     ]
    }
   ],
   "source": [
    "data['Delivery_Time']=pd.DataFrame(rf.predict(x))\n",
    "print(rf.predict(x))"
   ]
  },
  {
   "cell_type": "code",
   "execution_count": 252,
   "metadata": {},
   "outputs": [
    {
     "data": {
      "text/plain": [
       "30    2526\n",
       "45     247\n",
       "65       1\n",
       "Name: Delivery_Time, dtype: int64"
      ]
     },
     "execution_count": 252,
     "metadata": {},
     "output_type": "execute_result"
    }
   ],
   "source": [
    "data['Delivery_Time'].value_counts()"
   ]
  },
  {
   "cell_type": "code",
   "execution_count": 253,
   "metadata": {},
   "outputs": [],
   "source": [
    "sample_refined=[]\n",
    "for i in data['Delivery_Time']:\n",
    "    i=(str(i)+' minutes')\n",
    "    sample_refined.append(i)"
   ]
  },
  {
   "cell_type": "code",
   "execution_count": 254,
   "metadata": {},
   "outputs": [
    {
     "name": "stdout",
     "output_type": "stream",
     "text": [
      "     Delivery_Time\n",
      "0       30 minutes\n",
      "1       30 minutes\n",
      "2       30 minutes\n",
      "3       30 minutes\n",
      "4       45 minutes\n",
      "...            ...\n",
      "2769    30 minutes\n",
      "2770    30 minutes\n",
      "2771    30 minutes\n",
      "2772    30 minutes\n",
      "2773    30 minutes\n",
      "\n",
      "[2774 rows x 1 columns]\n"
     ]
    }
   ],
   "source": [
    "sample_refined=pd.DataFrame(sample_refined,columns=['Delivery_Time'])\n",
    "print(sample_refined)"
   ]
  },
  {
   "cell_type": "code",
   "execution_count": 255,
   "metadata": {},
   "outputs": [],
   "source": [
    "sample_refined.to_excel('Machine_Hack_Submit.xlsx',index=False)"
   ]
  },
  {
   "cell_type": "code",
   "execution_count": 256,
   "metadata": {},
   "outputs": [
    {
     "data": {
      "text/plain": [
       "30 minutes    2526\n",
       "45 minutes     247\n",
       "65 minutes       1\n",
       "Name: Delivery_Time, dtype: int64"
      ]
     },
     "execution_count": 256,
     "metadata": {},
     "output_type": "execute_result"
    }
   ],
   "source": [
    "pd.read_excel('Machine_Hack_Submit.xlsx')['Delivery_Time'].value_counts()"
   ]
  },
  {
   "cell_type": "markdown",
   "metadata": {},
   "source": [
    "CREATING A PICKLE MODEL:"
   ]
  },
  {
   "cell_type": "code",
   "execution_count": 257,
   "metadata": {},
   "outputs": [],
   "source": [
    "data01 = pd.read_excel('C:/Users/sharo/OneDrive/Desktop/ML_data/Data_Train.xlsx')\n",
    "data02 = pd.DataFrame(data01)\n",
    "X = data02.iloc[1:, 1:-1]\n",
    "Y = data02.iloc[1:, -1]"
   ]
  },
  {
   "cell_type": "code",
   "execution_count": 258,
   "metadata": {},
   "outputs": [],
   "source": [
    "y=le.fit_transform(Y)"
   ]
  },
  {
   "cell_type": "code",
   "execution_count": 259,
   "metadata": {},
   "outputs": [
    {
     "name": "stdout",
     "output_type": "stream",
     "text": [
      "[3 5 3 ... 3 3 3]\n"
     ]
    }
   ],
   "source": [
    "print(y)"
   ]
  },
  {
   "cell_type": "code",
   "execution_count": 260,
   "metadata": {},
   "outputs": [],
   "source": [
    "x_train,x_test,y_train,y_test = train_test_split(X,y,test_size=0.3,random_state=42)"
   ]
  },
  {
   "cell_type": "code",
   "execution_count": 261,
   "metadata": {},
   "outputs": [],
   "source": [
    "rf = RandomForestClassifier(n_estimators=100,criterion='entropy',random_state=42)"
   ]
  },
  {
   "cell_type": "code",
   "execution_count": 262,
   "metadata": {},
   "outputs": [],
   "source": [
    "# import pickle\n",
    "# pickle.dump(train_model,open('model.pkl','wb'))\n",
    "# model = pickle.load(open('model.pkl','rb'))"
   ]
  },
  {
   "cell_type": "code",
   "execution_count": null,
   "metadata": {},
   "outputs": [],
   "source": []
  },
  {
   "cell_type": "code",
   "execution_count": null,
   "metadata": {},
   "outputs": [],
   "source": []
  }
 ],
 "metadata": {
  "kernelspec": {
   "display_name": "Python 3",
   "language": "python",
   "name": "python3"
  },
  "language_info": {
   "codemirror_mode": {
    "name": "ipython",
    "version": 3
   },
   "file_extension": ".py",
   "mimetype": "text/x-python",
   "name": "python",
   "nbconvert_exporter": "python",
   "pygments_lexer": "ipython3",
   "version": "3.7.6"
  }
 },
 "nbformat": 4,
 "nbformat_minor": 4
}
